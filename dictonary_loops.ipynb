{
 "cells": [
  {
   "cell_type": "code",
   "execution_count": 1,
   "id": "2c5eee86-736a-41ed-9b01-7fa61be7b71b",
   "metadata": {},
   "outputs": [],
   "source": [
    "d={}"
   ]
  },
  {
   "cell_type": "code",
   "execution_count": 2,
   "id": "85bd4505-909c-4b7b-9272-090f5a5205c1",
   "metadata": {},
   "outputs": [
    {
     "data": {
      "text/plain": [
       "dict"
      ]
     },
     "execution_count": 2,
     "metadata": {},
     "output_type": "execute_result"
    }
   ],
   "source": [
    "type(d)"
   ]
  },
  {
   "cell_type": "code",
   "execution_count": 3,
   "id": "54f7654e-78b8-4c0e-a07f-3c9a92cb0cd6",
   "metadata": {},
   "outputs": [],
   "source": [
    "d1={'key': \"sand\"}"
   ]
  },
  {
   "cell_type": "code",
   "execution_count": 4,
   "id": "57358a1a-d0e4-40bc-8f58-6a644eccd384",
   "metadata": {},
   "outputs": [
    {
     "data": {
      "text/plain": [
       "{'key': 'sand'}"
      ]
     },
     "execution_count": 4,
     "metadata": {},
     "output_type": "execute_result"
    }
   ],
   "source": [
    "d1"
   ]
  },
  {
   "cell_type": "code",
   "execution_count": 6,
   "id": "b20f89c1-0e7e-4aac-bbd6-5b03d3e25e02",
   "metadata": {},
   "outputs": [],
   "source": [
    "d2={'name' : \"sand\" , 'gmail' : \"sandeep79035@gmail.com\" , 'mob' : \"7903574974\"}"
   ]
  },
  {
   "cell_type": "code",
   "execution_count": 7,
   "id": "8e265073-12b5-48e8-ac66-26efe837975b",
   "metadata": {},
   "outputs": [
    {
     "data": {
      "text/plain": [
       "{'name': 'sand', 'gmail': 'sandeep79035@gmail.com', 'mob': '7903574974'}"
      ]
     },
     "execution_count": 7,
     "metadata": {},
     "output_type": "execute_result"
    }
   ],
   "source": [
    "d2"
   ]
  },
  {
   "cell_type": "code",
   "execution_count": 11,
   "id": "56351f4b-c7c2-4749-bee8-e7cd80acdd54",
   "metadata": {},
   "outputs": [],
   "source": [
    "d3={'342' : \"sssf\" , '_son' : \"pkp\" , True : 34252}"
   ]
  },
  {
   "cell_type": "code",
   "execution_count": 12,
   "id": "763d865d-337b-44c9-b339-e6aab55beec0",
   "metadata": {},
   "outputs": [
    {
     "data": {
      "text/plain": [
       "{'342': 'sssf', '_son': 'pkp', True: 34252}"
      ]
     },
     "execution_count": 12,
     "metadata": {},
     "output_type": "execute_result"
    }
   ],
   "source": [
    "d3"
   ]
  },
  {
   "cell_type": "code",
   "execution_count": 14,
   "id": "9435ebbb-c7d2-4b5d-b16e-b6d2e4ddbd7c",
   "metadata": {},
   "outputs": [
    {
     "data": {
      "text/plain": [
       "'sssf'"
      ]
     },
     "execution_count": 14,
     "metadata": {},
     "output_type": "execute_result"
    }
   ],
   "source": [
    "d3['342']"
   ]
  },
  {
   "cell_type": "code",
   "execution_count": 17,
   "id": "c647c3aa-b372-4689-890d-dc39354eba20",
   "metadata": {},
   "outputs": [
    {
     "data": {
      "text/plain": [
       "34252"
      ]
     },
     "execution_count": 17,
     "metadata": {},
     "output_type": "execute_result"
    }
   ],
   "source": [
    "d3[True]"
   ]
  },
  {
   "cell_type": "code",
   "execution_count": 18,
   "id": "1f50f26e-eae3-441d-8e45-cab6cd434dae",
   "metadata": {},
   "outputs": [
    {
     "data": {
      "text/plain": [
       "34252"
      ]
     },
     "execution_count": 18,
     "metadata": {},
     "output_type": "execute_result"
    }
   ],
   "source": [
    "d3[1] #true = 1"
   ]
  },
  {
   "cell_type": "code",
   "execution_count": 23,
   "id": "1703e17c-70d5-4bce-9ade-44250cd26fe5",
   "metadata": {},
   "outputs": [],
   "source": [
    "d4={'name' : \"sand\" , 'gma_l' : \"sass@gmail.com\" , 'name' : \"sandeep\"}"
   ]
  },
  {
   "cell_type": "code",
   "execution_count": 24,
   "id": "1bb144e5-e73b-45e9-a2ee-49c703600252",
   "metadata": {},
   "outputs": [
    {
     "data": {
      "text/plain": [
       "{'name': 'sandeep', 'gma_l': 'sass@gmail.com'}"
      ]
     },
     "execution_count": 24,
     "metadata": {},
     "output_type": "execute_result"
    }
   ],
   "source": [
    "d4"
   ]
  },
  {
   "cell_type": "code",
   "execution_count": 26,
   "id": "60d85b49-67da-47fc-993a-f2c339dac0ce",
   "metadata": {},
   "outputs": [
    {
     "data": {
      "text/plain": [
       "'sandeep'"
      ]
     },
     "execution_count": 26,
     "metadata": {},
     "output_type": "execute_result"
    }
   ],
   "source": [
    "d4['name']"
   ]
  },
  {
   "cell_type": "code",
   "execution_count": 27,
   "id": "f8ee1326-8201-41aa-84d2-4393f08d1d4b",
   "metadata": {},
   "outputs": [],
   "source": [
    "d5={\"company\" : \"pwskills\" , \"course\" : [\"data scienced\" , \"java\", \"web developar\"]}"
   ]
  },
  {
   "cell_type": "code",
   "execution_count": 28,
   "id": "5ac0cb4f-e9e1-48b4-96b4-5f38c8bf2c80",
   "metadata": {},
   "outputs": [
    {
     "data": {
      "text/plain": [
       "{'company': 'pwskills', 'course': ['data scienced', 'java', 'web developar']}"
      ]
     },
     "execution_count": 28,
     "metadata": {},
     "output_type": "execute_result"
    }
   ],
   "source": [
    "d5"
   ]
  },
  {
   "cell_type": "code",
   "execution_count": 30,
   "id": "8f4987bd-7d8e-4518-9c91-814e91277c0f",
   "metadata": {},
   "outputs": [
    {
     "data": {
      "text/plain": [
       "'web developar'"
      ]
     },
     "execution_count": 30,
     "metadata": {},
     "output_type": "execute_result"
    }
   ],
   "source": [
    "d5[\"course\"][2]"
   ]
  },
  {
   "cell_type": "code",
   "execution_count": 33,
   "id": "a790f69e-d108-4fec-a077-a016f0755505",
   "metadata": {},
   "outputs": [
    {
     "data": {
      "text/plain": [
       "'data scienced'"
      ]
     },
     "execution_count": 33,
     "metadata": {},
     "output_type": "execute_result"
    }
   ],
   "source": [
    "d5[\"course\"][0]"
   ]
  },
  {
   "cell_type": "code",
   "execution_count": 52,
   "id": "d4838575-5562-487d-8155-55520ac91c01",
   "metadata": {},
   "outputs": [],
   "source": [
    "d6= {\"number\" : [1,3,44,55,54,3], \"assignment\" : (1,2,3,4,5,6), \"lunch_date\" : {23,24,25,28}, \"class_timeing\" : {\"data_science\" : 9, \"web_devlopment\" : 8}} "
   ]
  },
  {
   "cell_type": "code",
   "execution_count": 53,
   "id": "510a40e5-8e85-4e18-8f55-2270e74c00cd",
   "metadata": {},
   "outputs": [
    {
     "data": {
      "text/plain": [
       "{'number': [1, 3, 44, 55, 54, 3],\n",
       " 'assignment': (1, 2, 3, 4, 5, 6),\n",
       " 'lunch_date': {23, 24, 25, 28},\n",
       " 'class_timeing': {'data_science': 9, 'web_devlopment': 8}}"
      ]
     },
     "execution_count": 53,
     "metadata": {},
     "output_type": "execute_result"
    }
   ],
   "source": [
    "d6"
   ]
  },
  {
   "cell_type": "code",
   "execution_count": 54,
   "id": "abe0e4b0-545d-48e0-8b72-fcb84415e4f5",
   "metadata": {},
   "outputs": [
    {
     "data": {
      "text/plain": [
       "9"
      ]
     },
     "execution_count": 54,
     "metadata": {},
     "output_type": "execute_result"
    }
   ],
   "source": [
    "d6['class_timeing'][\"data_science\"]"
   ]
  },
  {
   "cell_type": "code",
   "execution_count": 55,
   "id": "3b2a475e-0377-4516-b3d0-2f2e8c737b70",
   "metadata": {},
   "outputs": [
    {
     "data": {
      "text/plain": [
       "{'number': [1, 3, 44, 55, 54, 3],\n",
       " 'assignment': (1, 2, 3, 4, 5, 6),\n",
       " 'lunch_date': {23, 24, 25, 28},\n",
       " 'class_timeing': {'data_science': 9, 'web_devlopment': 8}}"
      ]
     },
     "execution_count": 55,
     "metadata": {},
     "output_type": "execute_result"
    }
   ],
   "source": [
    "d6"
   ]
  },
  {
   "cell_type": "code",
   "execution_count": 57,
   "id": "485708d8-f501-4e3f-9406-3fecc4901f5c",
   "metadata": {},
   "outputs": [],
   "source": [
    "d6['mentor']={\"sudhanshu\", \"krish\", \"monu\", \"sam\", \"golu\", \"ankit\"}"
   ]
  },
  {
   "cell_type": "code",
   "execution_count": 58,
   "id": "5b513bcf-f639-4c12-a7b6-1aa8ff5cc104",
   "metadata": {},
   "outputs": [
    {
     "data": {
      "text/plain": [
       "{'number': [1, 3, 44, 55, 54, 3],\n",
       " 'assignment': (1, 2, 3, 4, 5, 6),\n",
       " 'lunch_date': {23, 24, 25, 28},\n",
       " 'class_timeing': {'data_science': 9, 'web_devlopment': 8},\n",
       " 'mentor': {'ankit', 'golu', 'krish', 'monu', 'sam', 'sudhanshu'}}"
      ]
     },
     "execution_count": 58,
     "metadata": {},
     "output_type": "execute_result"
    }
   ],
   "source": [
    "d6"
   ]
  },
  {
   "cell_type": "code",
   "execution_count": 59,
   "id": "99c8872d-89a5-4661-a47e-158ce511c0f1",
   "metadata": {},
   "outputs": [],
   "source": [
    "del d6['number']"
   ]
  },
  {
   "cell_type": "code",
   "execution_count": 60,
   "id": "59bd0b00-dbc0-4337-b30b-c5b53257042b",
   "metadata": {},
   "outputs": [
    {
     "data": {
      "text/plain": [
       "{'assignment': (1, 2, 3, 4, 5, 6),\n",
       " 'lunch_date': {23, 24, 25, 28},\n",
       " 'class_timeing': {'data_science': 9, 'web_devlopment': 8},\n",
       " 'mentor': {'ankit', 'golu', 'krish', 'monu', 'sam', 'sudhanshu'}}"
      ]
     },
     "execution_count": 60,
     "metadata": {},
     "output_type": "execute_result"
    }
   ],
   "source": [
    "d6"
   ]
  },
  {
   "cell_type": "code",
   "execution_count": 61,
   "id": "ca2dbe82-1327-409d-94d6-c8a58332005e",
   "metadata": {},
   "outputs": [
    {
     "data": {
      "text/plain": [
       "<function dict.keys>"
      ]
     },
     "execution_count": 61,
     "metadata": {},
     "output_type": "execute_result"
    }
   ],
   "source": [
    "d6.keys"
   ]
  },
  {
   "cell_type": "code",
   "execution_count": 62,
   "id": "b3107593-0fd5-4c56-8b0d-a0bd8060a787",
   "metadata": {},
   "outputs": [
    {
     "data": {
      "text/plain": [
       "<function dict.values>"
      ]
     },
     "execution_count": 62,
     "metadata": {},
     "output_type": "execute_result"
    }
   ],
   "source": [
    "d6.values"
   ]
  },
  {
   "cell_type": "code",
   "execution_count": 66,
   "id": "f2a69c61-4b7a-436a-8c58-5a8f8ca64c7a",
   "metadata": {},
   "outputs": [
    {
     "data": {
      "text/plain": [
       "[(1, 2, 3, 4, 5, 6),\n",
       " {23, 24, 25, 28},\n",
       " {'data_science': 9, 'web_devlopment': 8},\n",
       " {'ankit', 'golu', 'krish', 'monu', 'sam', 'sudhanshu'}]"
      ]
     },
     "execution_count": 66,
     "metadata": {},
     "output_type": "execute_result"
    }
   ],
   "source": [
    "list(d6.values())"
   ]
  },
  {
   "cell_type": "code",
   "execution_count": 67,
   "id": "0a893857-2657-4785-8a85-ca881dc2eae3",
   "metadata": {},
   "outputs": [
    {
     "data": {
      "text/plain": [
       "['assignment', 'lunch_date', 'class_timeing', 'mentor']"
      ]
     },
     "execution_count": 67,
     "metadata": {},
     "output_type": "execute_result"
    }
   ],
   "source": [
    "list(d6.keys())"
   ]
  },
  {
   "cell_type": "code",
   "execution_count": 68,
   "id": "3b537d57-f124-4630-913c-2955ad1bdc0d",
   "metadata": {},
   "outputs": [
    {
     "data": {
      "text/plain": [
       "<function dict.items>"
      ]
     },
     "execution_count": 68,
     "metadata": {},
     "output_type": "execute_result"
    }
   ],
   "source": [
    "d6.items"
   ]
  },
  {
   "cell_type": "code",
   "execution_count": 69,
   "id": "1c5ad75f-7d4c-44b1-b2ef-59ce25e7c7d3",
   "metadata": {},
   "outputs": [
    {
     "data": {
      "text/plain": [
       "[('assignment', (1, 2, 3, 4, 5, 6)),\n",
       " ('lunch_date', {23, 24, 25, 28}),\n",
       " ('class_timeing', {'data_science': 9, 'web_devlopment': 8}),\n",
       " ('mentor', {'ankit', 'golu', 'krish', 'monu', 'sam', 'sudhanshu'})]"
      ]
     },
     "execution_count": 69,
     "metadata": {},
     "output_type": "execute_result"
    }
   ],
   "source": [
    "list(d6.items())"
   ]
  },
  {
   "cell_type": "code",
   "execution_count": 70,
   "id": "069b08eb-1f57-429d-b2c5-187f9f0f65b2",
   "metadata": {},
   "outputs": [
    {
     "ename": "TypeError",
     "evalue": "pop expected at least 1 argument, got 0",
     "output_type": "error",
     "traceback": [
      "\u001b[0;31m---------------------------------------------------------------------------\u001b[0m",
      "\u001b[0;31mTypeError\u001b[0m                                 Traceback (most recent call last)",
      "Cell \u001b[0;32mIn[70], line 1\u001b[0m\n\u001b[0;32m----> 1\u001b[0m \u001b[43md6\u001b[49m\u001b[38;5;241;43m.\u001b[39;49m\u001b[43mpop\u001b[49m\u001b[43m(\u001b[49m\u001b[43m)\u001b[49m\n",
      "\u001b[0;31mTypeError\u001b[0m: pop expected at least 1 argument, got 0"
     ]
    }
   ],
   "source": [
    "d6.pop()"
   ]
  },
  {
   "cell_type": "code",
   "execution_count": null,
   "id": "f11507c3-e722-427c-ac83-26d481f3301b",
   "metadata": {},
   "outputs": [],
   "source": [
    "d6.pop('assignment')"
   ]
  },
  {
   "cell_type": "code",
   "execution_count": 1,
   "id": "26ce6319-984e-4688-864c-8af22fcb3d43",
   "metadata": {},
   "outputs": [
    {
     "ename": "NameError",
     "evalue": "name 'd6' is not defined",
     "output_type": "error",
     "traceback": [
      "\u001b[0;31m---------------------------------------------------------------------------\u001b[0m",
      "\u001b[0;31mNameError\u001b[0m                                 Traceback (most recent call last)",
      "Cell \u001b[0;32mIn[1], line 1\u001b[0m\n\u001b[0;32m----> 1\u001b[0m \u001b[43md6\u001b[49m\n",
      "\u001b[0;31mNameError\u001b[0m: name 'd6' is not defined"
     ]
    }
   ],
   "source": [
    "d6"
   ]
  },
  {
   "cell_type": "code",
   "execution_count": 4,
   "id": "5006df2b-8f2f-49fa-a2cb-562288b1788a",
   "metadata": {},
   "outputs": [
    {
     "name": "stdin",
     "output_type": "stream",
     "text": [
      "enter your marks 767\n"
     ]
    },
    {
     "name": "stdout",
     "output_type": "stream",
     "text": [
      "you will be a part of A0 batch\n"
     ]
    }
   ],
   "source": [
    "marks=int(input(\"enter your marks\"))\n",
    "if marks >= 80:\n",
    "    print(\"you will be a part of A0 batch\")\n",
    "elif marks >=60 and marks <=80:\n",
    "    print(\"you will be a part of A1 batch\")\n",
    "elif marks >=40 and marks <=60:\n",
    "    print(\"you will be a part of A2 batch\")\n",
    "else :\n",
    "    print(\"you will be a part of A3 batch\")   "
   ]
  },
  {
   "cell_type": "markdown",
   "id": "236771be-b0a4-4ab4-802c-186f02e14218",
   "metadata": {},
   "source": [
    "marks=int(input(\"enter your number\"))"
   ]
  },
  {
   "cell_type": "code",
   "execution_count": 6,
   "id": "0c1d172a-600e-4bd7-9ab7-6e3e5353406d",
   "metadata": {},
   "outputs": [
    {
     "data": {
      "text/plain": [
       "555"
      ]
     },
     "execution_count": 6,
     "metadata": {},
     "output_type": "execute_result"
    }
   ],
   "source": [
    "marks"
   ]
  },
  {
   "cell_type": "code",
   "execution_count": 10,
   "id": "b635ab9d-8fb3-4b9e-961c-69acbf0fc2b5",
   "metadata": {},
   "outputs": [
    {
     "data": {
      "text/plain": [
       "float"
      ]
     },
     "execution_count": 10,
     "metadata": {},
     "output_type": "execute_result"
    }
   ],
   "source": [
    "type(marks)"
   ]
  },
  {
   "cell_type": "markdown",
   "id": "0ba25543-0818-485b-8d42-f36ccefe693f",
   "metadata": {},
   "source": [
    "num=float(input(\"enter your number\"))"
   ]
  },
  {
   "cell_type": "code",
   "execution_count": 1,
   "id": "b147f0d8-103c-45e5-8c0b-c8b57b17c65f",
   "metadata": {},
   "outputs": [
    {
     "ename": "NameError",
     "evalue": "name 'num' is not defined",
     "output_type": "error",
     "traceback": [
      "\u001b[0;31m---------------------------------------------------------------------------\u001b[0m",
      "\u001b[0;31mNameError\u001b[0m                                 Traceback (most recent call last)",
      "Cell \u001b[0;32mIn[1], line 1\u001b[0m\n\u001b[0;32m----> 1\u001b[0m \u001b[43mnum\u001b[49m\n",
      "\u001b[0;31mNameError\u001b[0m: name 'num' is not defined"
     ]
    }
   ],
   "source": [
    "num"
   ]
  },
  {
   "cell_type": "code",
   "execution_count": 6,
   "id": "6f8fde45-bdeb-4e1f-89b1-c89e77f53f56",
   "metadata": {},
   "outputs": [
    {
     "name": "stdin",
     "output_type": "stream",
     "text": [
      "enter price 4444\n"
     ]
    },
    {
     "name": "stdout",
     "output_type": "stream",
     "text": [
      "i will not purchase\n"
     ]
    }
   ],
   "source": [
    "price= int(input(\"enter price\"))\n",
    "if price > 1000:\n",
    "    print(\"i will not purchase\")\n",
    "else :\n",
    "    print(\"i will purchase\")"
   ]
  },
  {
   "cell_type": "code",
   "execution_count": 11,
   "id": "45b84446-f300-4dd7-adca-829c5d178891",
   "metadata": {},
   "outputs": [
    {
     "name": "stdin",
     "output_type": "stream",
     "text": [
      "enter price 200\n"
     ]
    }
   ],
   "source": [
    "price= int(input(\"enter price\"))\n",
    "if price > 1000:\n",
    "    print(\"i will purchase\")\n",
    "    \n"
   ]
  },
  {
   "cell_type": "code",
   "execution_count": 34,
   "id": "53fadd1e-aa2e-4238-beed-88318d7a89b7",
   "metadata": {},
   "outputs": [
    {
     "name": "stdin",
     "output_type": "stream",
     "text": [
      "enter price 33\n"
     ]
    },
    {
     "name": "stdout",
     "output_type": "stream",
     "text": [
      "its ok\n"
     ]
    }
   ],
   "source": [
    "price= int(input(\"enter price\"))\n",
    "if price > 1000:\n",
    "    print(\"i will not purchase\")\n",
    "if price > 7000:\n",
    "    print(\"this is to much\")\n",
    "elif price <2000:\n",
    "    print(\"its ok\")\n",
    "elif price <1000:\n",
    "    print(\"i have purchase\")\n",
    "else:\n",
    "    print(\"not entersted\")"
   ]
  },
  {
   "cell_type": "code",
   "execution_count": 35,
   "id": "5dedade9-506c-42b0-8dcc-84b125dae676",
   "metadata": {},
   "outputs": [],
   "source": [
    "l=[1,2,3,4,5]"
   ]
  },
  {
   "cell_type": "code",
   "execution_count": 36,
   "id": "b45f1fa4-d14c-4665-ad46-9f0b7159d0b7",
   "metadata": {},
   "outputs": [
    {
     "data": {
      "text/plain": [
       "2"
      ]
     },
     "execution_count": 36,
     "metadata": {},
     "output_type": "execute_result"
    }
   ],
   "source": [
    "l[0] +1"
   ]
  },
  {
   "cell_type": "code",
   "execution_count": 37,
   "id": "03dfc60c-d4bf-45ac-971b-1ae9a039df71",
   "metadata": {},
   "outputs": [],
   "source": [
    "l1=[]"
   ]
  },
  {
   "cell_type": "code",
   "execution_count": 38,
   "id": "fe634e7d-8e01-462d-92b7-9f4e5193c070",
   "metadata": {},
   "outputs": [],
   "source": [
    "l1.append(l[0] +1)"
   ]
  },
  {
   "cell_type": "code",
   "execution_count": 39,
   "id": "12d33020-84cf-4309-9be9-e2e56e16a2f2",
   "metadata": {},
   "outputs": [
    {
     "data": {
      "text/plain": [
       "[2]"
      ]
     },
     "execution_count": 39,
     "metadata": {},
     "output_type": "execute_result"
    }
   ],
   "source": [
    "l1"
   ]
  },
  {
   "cell_type": "code",
   "execution_count": 40,
   "id": "fad07647-acd2-4a0d-a749-94c0d5798c3a",
   "metadata": {},
   "outputs": [],
   "source": [
    "l=[1,2,3,4,5,6,7,8,9,9]"
   ]
  },
  {
   "cell_type": "code",
   "execution_count": 52,
   "id": "8d51af70-306e-445d-9429-c90a67b653c3",
   "metadata": {},
   "outputs": [
    {
     "name": "stdout",
     "output_type": "stream",
     "text": [
      "2\n",
      "3\n",
      "4\n",
      "5\n",
      "6\n",
      "7\n",
      "8\n",
      "9\n",
      "10\n",
      "10\n"
     ]
    }
   ],
   "source": [
    "l1=[]\n",
    "for i in l:\n",
    "    print(i+1)"
   ]
  },
  {
   "cell_type": "code",
   "execution_count": 51,
   "id": "7b647504-4547-4b4d-8d12-2484c97e262b",
   "metadata": {},
   "outputs": [
    {
     "name": "stdout",
     "output_type": "stream",
     "text": [
      "2\n",
      "3\n",
      "4\n",
      "5\n",
      "6\n",
      "7\n",
      "8\n",
      "9\n",
      "10\n",
      "10\n"
     ]
    },
    {
     "data": {
      "text/plain": [
       "[2, 3, 4, 5, 6, 7, 8, 9, 10, 10]"
      ]
     },
     "execution_count": 51,
     "metadata": {},
     "output_type": "execute_result"
    }
   ],
   "source": [
    "l1=[]\n",
    "for i in l:\n",
    "    print(i+1)\n",
    "    l1.append(i+1)\n",
    "l1"
   ]
  },
  {
   "cell_type": "code",
   "execution_count": 49,
   "id": "aff77134-fdc0-4aa4-a0c5-eb209a070b78",
   "metadata": {},
   "outputs": [
    {
     "data": {
      "text/plain": [
       "[10]"
      ]
     },
     "execution_count": 49,
     "metadata": {},
     "output_type": "execute_result"
    }
   ],
   "source": [
    "l1"
   ]
  },
  {
   "cell_type": "code",
   "execution_count": 53,
   "id": "9b964d2b-a13f-4ac0-8e60-f81644f0a911",
   "metadata": {},
   "outputs": [
    {
     "data": {
      "text/plain": [
       "[1, 2, 3, 4, 5, 6, 7, 8, 9, 9]"
      ]
     },
     "execution_count": 53,
     "metadata": {},
     "output_type": "execute_result"
    }
   ],
   "source": [
    "l"
   ]
  },
  {
   "cell_type": "code",
   "execution_count": 58,
   "id": "1a609dd4-964e-43be-b7f3-6acdbe5b0ee9",
   "metadata": {},
   "outputs": [],
   "source": [
    "l= [\"sudh\", \"kumar\", \"pwaskills\", \"course\"]"
   ]
  },
  {
   "cell_type": "code",
   "execution_count": 63,
   "id": "67e25939-d39e-4ab8-9885-b03668982390",
   "metadata": {},
   "outputs": [
    {
     "name": "stdout",
     "output_type": "stream",
     "text": [
      "sudh\n",
      "kumar\n",
      "pwaskills\n",
      "course\n"
     ]
    }
   ],
   "source": [
    "l1= []\n",
    "for i in l:\n",
    "    print(i)\n",
    "    l1.append(i.upper())\n"
   ]
  },
  {
   "cell_type": "code",
   "execution_count": 64,
   "id": "77d4bb4e-72b4-4983-9544-60c0f46df6da",
   "metadata": {},
   "outputs": [
    {
     "data": {
      "text/plain": [
       "['SUDH', 'KUMAR', 'PWASKILLS', 'COURSE']"
      ]
     },
     "execution_count": 64,
     "metadata": {},
     "output_type": "execute_result"
    }
   ],
   "source": [
    "l1"
   ]
  },
  {
   "cell_type": "code",
   "execution_count": 65,
   "id": "219fde3a-7671-47b1-853d-2e27dd8f3bf5",
   "metadata": {},
   "outputs": [],
   "source": [
    "l= [1,3,2,4, \"sudh\", \"kkku\", 345, 23.44, \"abv\"]"
   ]
  },
  {
   "cell_type": "code",
   "execution_count": 71,
   "id": "91d0e02c-a4a6-4a74-b045-4092a7891e24",
   "metadata": {},
   "outputs": [
    {
     "ename": "SyntaxError",
     "evalue": "invalid syntax (1691819489.py, line 6)",
     "output_type": "error",
     "traceback": [
      "\u001b[0;36m  Cell \u001b[0;32mIn[71], line 6\u001b[0;36m\u001b[0m\n\u001b[0;31m    else:\u001b[0m\n\u001b[0m    ^\u001b[0m\n\u001b[0;31mSyntaxError\u001b[0m\u001b[0;31m:\u001b[0m invalid syntax\n"
     ]
    }
   ],
   "source": [
    "l1_nub= []\n",
    "l2_str= []\n",
    "for i in l:\n",
    "    if type(i) == int or type(i) == float:\n",
    "        l1_nub.append(i)\n",
    "        else:\n",
    "            l2_str.append(i)\n",
    "    "
   ]
  },
  {
   "cell_type": "code",
   "execution_count": 72,
   "id": "a4132894-8480-4f84-9548-6c988722d742",
   "metadata": {},
   "outputs": [
    {
     "data": {
      "text/plain": [
       "[1, 3, 2, 4, 'sudh', 'kkku', 345, 23.44, 'abv']"
      ]
     },
     "execution_count": 72,
     "metadata": {},
     "output_type": "execute_result"
    }
   ],
   "source": [
    "l"
   ]
  },
  {
   "cell_type": "code",
   "execution_count": 74,
   "id": "9a6772cc-5a51-4e84-a99f-5374f56cbbf3",
   "metadata": {},
   "outputs": [],
   "source": [
    "l1_nub= []\n",
    "l2_str= []\n",
    "for i in l:\n",
    "    if type(i) == int or type(i) == float:\n",
    "        l1_nub.append(i)\n",
    "    else:\n",
    "        l2_str.append(i)\n",
    "        \n",
    "\n"
   ]
  },
  {
   "cell_type": "code",
   "execution_count": 76,
   "id": "62ce79f2-1d55-4c89-b226-119c611b26d5",
   "metadata": {},
   "outputs": [
    {
     "data": {
      "text/plain": [
       "[1, 3, 2, 4, 345, 23.44]"
      ]
     },
     "execution_count": 76,
     "metadata": {},
     "output_type": "execute_result"
    }
   ],
   "source": [
    "l1_nub"
   ]
  },
  {
   "cell_type": "code",
   "execution_count": 77,
   "id": "496af7b4-c21f-4711-ba48-aee4bf277140",
   "metadata": {},
   "outputs": [
    {
     "data": {
      "text/plain": [
       "['sudh', 'kkku', 'abv']"
      ]
     },
     "execution_count": 77,
     "metadata": {},
     "output_type": "execute_result"
    }
   ],
   "source": [
    "l2_str"
   ]
  },
  {
   "cell_type": "code",
   "execution_count": null,
   "id": "7ce486a0-0987-4a74-a8d8-ec5011f54de4",
   "metadata": {},
   "outputs": [],
   "source": []
  }
 ],
 "metadata": {
  "kernelspec": {
   "display_name": "Python 3 (ipykernel)",
   "language": "python",
   "name": "python3"
  },
  "language_info": {
   "codemirror_mode": {
    "name": "ipython",
    "version": 3
   },
   "file_extension": ".py",
   "mimetype": "text/x-python",
   "name": "python",
   "nbconvert_exporter": "python",
   "pygments_lexer": "ipython3",
   "version": "3.10.8"
  }
 },
 "nbformat": 4,
 "nbformat_minor": 5
}
